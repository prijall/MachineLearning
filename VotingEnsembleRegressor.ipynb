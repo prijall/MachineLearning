{
 "cells": [
  {
   "cell_type": "code",
   "execution_count": 1,
   "metadata": {},
   "outputs": [],
   "source": [
    "import numpy as np\n",
    "from sklearn.datasets import load_diabetes"
   ]
  },
  {
   "cell_type": "code",
   "execution_count": 2,
   "metadata": {},
   "outputs": [],
   "source": [
    "X, y= load_diabetes(return_X_y=True)"
   ]
  },
  {
   "cell_type": "code",
   "execution_count": 4,
   "metadata": {},
   "outputs": [
    {
     "data": {
      "text/plain": [
       "(442, 10)"
      ]
     },
     "execution_count": 4,
     "metadata": {},
     "output_type": "execute_result"
    }
   ],
   "source": [
    "X.shape"
   ]
  },
  {
   "cell_type": "code",
   "execution_count": 5,
   "metadata": {},
   "outputs": [
    {
     "data": {
      "text/plain": [
       "(442,)"
      ]
     },
     "execution_count": 5,
     "metadata": {},
     "output_type": "execute_result"
    }
   ],
   "source": [
    "y.shape"
   ]
  },
  {
   "cell_type": "code",
   "execution_count": 6,
   "metadata": {},
   "outputs": [],
   "source": [
    "from sklearn.linear_model import LinearRegression\n",
    "from sklearn.svm import SVR\n",
    "from sklearn.tree import DecisionTreeRegressor\n",
    "from sklearn.model_selection import cross_val_score"
   ]
  },
  {
   "cell_type": "code",
   "execution_count": 7,
   "metadata": {},
   "outputs": [],
   "source": [
    "lr=LinearRegression()\n",
    "svr=SVR()\n",
    "dt=DecisionTreeRegressor()"
   ]
  },
  {
   "cell_type": "code",
   "execution_count": 10,
   "metadata": {},
   "outputs": [],
   "source": [
    "estimators=[('lr', lr), ('svr', svr), ('dt', dt)]"
   ]
  },
  {
   "cell_type": "code",
   "execution_count": 12,
   "metadata": {},
   "outputs": [
    {
     "name": "stdout",
     "output_type": "stream",
     "text": [
      "lr 0.46\n",
      "svr 0.15\n",
      "dt -0.22\n"
     ]
    }
   ],
   "source": [
    "for estimator in estimators:\n",
    "    score=cross_val_score(estimator[1], X, y, cv=10, scoring='r2')\n",
    "    print(estimator[0], np.round(np.mean(score), 2))"
   ]
  },
  {
   "cell_type": "code",
   "execution_count": 13,
   "metadata": {},
   "outputs": [],
   "source": [
    "from sklearn.ensemble import VotingRegressor"
   ]
  },
  {
   "cell_type": "code",
   "execution_count": 14,
   "metadata": {},
   "outputs": [
    {
     "name": "stdout",
     "output_type": "stream",
     "text": [
      "Voting Regressor 0.34\n"
     ]
    }
   ],
   "source": [
    "vr=VotingRegressor(estimators)\n",
    "score1=cross_val_score(vr, X, y, scoring='r2', cv=10)\n",
    "print(\"Voting Regressor\", np.round(np.mean(score1), 2))"
   ]
  },
  {
   "cell_type": "markdown",
   "metadata": {},
   "source": [
    "### using weight"
   ]
  },
  {
   "cell_type": "code",
   "execution_count": 15,
   "metadata": {},
   "outputs": [
    {
     "name": "stdout",
     "output_type": "stream",
     "text": [
      "for i=1, j=1, k=1 0.35\n",
      "for i=1, j=1, k=2 0.26\n",
      "for i=1, j=1, k=3 0.19\n",
      "for i=1, j=2, k=1 0.33\n",
      "for i=1, j=2, k=2 0.29\n",
      "for i=1, j=2, k=3 0.24\n",
      "for i=1, j=3, k=1 0.32\n",
      "for i=1, j=3, k=2 0.31\n",
      "for i=1, j=3, k=3 0.27\n",
      "for i=2, j=1, k=1 0.38\n",
      "for i=2, j=1, k=2 0.33\n",
      "for i=2, j=1, k=3 0.28\n",
      "for i=2, j=2, k=1 0.38\n",
      "for i=2, j=2, k=2 0.35\n",
      "for i=2, j=2, k=3 0.3\n",
      "for i=2, j=3, k=1 0.37\n",
      "for i=2, j=3, k=2 0.34\n",
      "for i=2, j=3, k=3 0.31\n",
      "for i=3, j=1, k=1 0.43\n",
      "for i=3, j=1, k=2 0.36\n",
      "for i=3, j=1, k=3 0.33\n",
      "for i=3, j=2, k=1 0.41\n",
      "for i=3, j=2, k=2 0.37\n",
      "for i=3, j=2, k=3 0.34\n",
      "for i=3, j=3, k=1 0.4\n",
      "for i=3, j=3, k=2 0.37\n",
      "for i=3, j=3, k=3 0.34\n"
     ]
    }
   ],
   "source": [
    "for i in range(1, 4):\n",
    "    for j in range(1,4):\n",
    "        for k in range(1,4):\n",
    "            vr=VotingRegressor(estimators, weights=[i, j, k])\n",
    "            score2=cross_val_score(vr, X, y, scoring='r2', cv=10)\n",
    "            print(\"for i={}, j={}, k={}\".format(i,j,k), np.round(np.mean(score2), 2))"
   ]
  },
  {
   "cell_type": "markdown",
   "metadata": {},
   "source": [
    "### Using same algorithm\n"
   ]
  },
  {
   "cell_type": "code",
   "execution_count": 16,
   "metadata": {},
   "outputs": [],
   "source": [
    "lr1=LinearRegression()\n",
    "lr2=LinearRegression()\n",
    "lr3=LinearRegression()\n",
    "lr4=LinearRegression()\n",
    "lr5=LinearRegression()"
   ]
  },
  {
   "cell_type": "code",
   "execution_count": 17,
   "metadata": {},
   "outputs": [],
   "source": [
    "estimators1=[('lr1', lr1), ('lr2', lr2), ('lr3', lr3), ('lr4', lr4), ('lr5', lr5),]"
   ]
  },
  {
   "cell_type": "code",
   "execution_count": 19,
   "metadata": {},
   "outputs": [
    {
     "name": "stdout",
     "output_type": "stream",
     "text": [
      "lr1 0.46\n",
      "lr2 0.46\n",
      "lr3 0.46\n",
      "lr4 0.46\n",
      "lr5 0.46\n"
     ]
    }
   ],
   "source": [
    "for estimator in estimators1:\n",
    "    val=cross_val_score(estimator[1], X, y, cv=10, scoring='r2')\n",
    "    print(estimator[0], np.round(np.mean(val), 2))"
   ]
  },
  {
   "cell_type": "code",
   "execution_count": 20,
   "metadata": {},
   "outputs": [
    {
     "name": "stdout",
     "output_type": "stream",
     "text": [
      "Voting Regressor with Linear Regression 0.46\n"
     ]
    }
   ],
   "source": [
    "vr1=VotingRegressor(estimators1)\n",
    "score3=cross_val_score(vr1, X, y, scoring='r2', cv=10)\n",
    "print('Voting Regressor with Linear Regression', np.round(np.mean(score3), 2))"
   ]
  }
 ],
 "metadata": {
  "kernelspec": {
   "display_name": "Python 3",
   "language": "python",
   "name": "python3"
  },
  "language_info": {
   "codemirror_mode": {
    "name": "ipython",
    "version": 3
   },
   "file_extension": ".py",
   "mimetype": "text/x-python",
   "name": "python",
   "nbconvert_exporter": "python",
   "pygments_lexer": "ipython3",
   "version": "3.12.0"
  }
 },
 "nbformat": 4,
 "nbformat_minor": 2
}
